{
  "nbformat": 4,
  "nbformat_minor": 0,
  "metadata": {
    "colab": {
      "provenance": [],
      "toc_visible": true
    },
    "kernelspec": {
      "name": "python3",
      "display_name": "Python 3"
    },
    "language_info": {
      "name": "python"
    }
  },
  "cells": [
    {
      "cell_type": "code",
      "execution_count": 15,
      "metadata": {
        "colab": {
          "base_uri": "https://localhost:8080/"
        },
        "id": "hTU8CYV0tdiX",
        "outputId": "a10c5b30-3e4c-4761-dd0d-a265614fef9d"
      },
      "outputs": [
        {
          "output_type": "stream",
          "name": "stdout",
          "text": [
            "Drive already mounted at /content/drive; to attempt to forcibly remount, call drive.mount(\"/content/drive\", force_remount=True).\n"
          ]
        }
      ],
      "source": [
        "from google.colab import drive\n",
        "drive.mount('/content/drive')\n",
        "import numpy as np\n",
        "\n"
      ]
    },
    {
      "cell_type": "code",
      "source": [
        "import pandas as pd\n",
        "file_path = '/content/drive/My Drive/Housing.csv'\n",
        "data = pd.read_csv(file_path)\n"
      ],
      "metadata": {
        "id": "NqyblHIIxArj"
      },
      "execution_count": 2,
      "outputs": []
    },
    {
      "cell_type": "code",
      "source": [
        "from sklearn.model_selection import train_test_split\n",
        "from sklearn.linear_model import LinearRegression\n",
        "from sklearn.metrics import mean_squared_error"
      ],
      "metadata": {
        "id": "rBJnhIHevAug"
      },
      "execution_count": 3,
      "outputs": []
    },
    {
      "cell_type": "code",
      "source": [
        "X_copy = data[['area', 'bathrooms', 'bedrooms']]\n",
        "y = data['price']\n",
        "X = X_copy.copy()\n",
        "X_copy['bias'] = 1\n",
        "\n"
      ],
      "metadata": {
        "id": "P2SY-GWcxXSF"
      },
      "execution_count": 11,
      "outputs": []
    },
    {
      "cell_type": "code",
      "source": [
        "def hypothesis(X, w):\n",
        "    return np.dot(X, w)\n"
      ],
      "metadata": {
        "id": "ZzqPoBHd0Pwd"
      },
      "execution_count": 19,
      "outputs": []
    },
    {
      "cell_type": "code",
      "source": [
        "def mean_squared_error(y_pred, y_true):\n",
        "    return ((y_pred - y_true) ** 2).mean()\n"
      ],
      "metadata": {
        "id": "2K0qF7nh0rcg"
      },
      "execution_count": 20,
      "outputs": []
    },
    {
      "cell_type": "code",
      "source": [
        "def gradient_descent_step(X, y, w, learning_rate):\n",
        "    m = len(y)\n",
        "    y_pred = hypothesis(X, w)\n",
        "    gradient = np.dot(X.T, (y_pred - y)) / m\n",
        "    w -= learning_rate * gradient\n",
        "    return w\n"
      ],
      "metadata": {
        "id": "F603pH9N0un3"
      },
      "execution_count": 25,
      "outputs": []
    },
    {
      "cell_type": "code",
      "source": [
        "def gradient_descent(X, y, w, learning_rate, num_iterations):\n",
        "    for _ in range(num_iterations):\n",
        "        w = gradient_descent_step(X, y, w, learning_rate)\n",
        "    return w\n"
      ],
      "metadata": {
        "id": "P0XbfeRt0xTS"
      },
      "execution_count": 23,
      "outputs": []
    },
    {
      "cell_type": "code",
      "source": [
        "def analytical_solution(X, y):\n",
        "    return np.linalg.inv(X.T @ X) @ X.T @ y\n"
      ],
      "metadata": {
        "id": "H7CwNUjb00BG"
      },
      "execution_count": 24,
      "outputs": []
    },
    {
      "cell_type": "code",
      "source": [],
      "metadata": {
        "id": "9usP1CxI021z"
      },
      "execution_count": null,
      "outputs": []
    },
    {
      "cell_type": "code",
      "source": [
        "learning_rate = 0.01\n",
        "num_iterations = 1000\n",
        "w_initial = np.zeros(X.shape[1])  # Початкові параметри w\n"
      ],
      "metadata": {
        "id": "nPxQXIh4zeUZ"
      },
      "execution_count": 21,
      "outputs": []
    },
    {
      "cell_type": "code",
      "source": [
        "# Знаходження параметрів w за допомогою градієнтного спуску\n",
        "w_gd = gradient_descent(X.to_numpy(), y.to_numpy(), w_initial, learning_rate, num_iterations)\n",
        "y_pred_gd = hypothesis(X.to_numpy(), w_gd)\n",
        "mse_gd = mean_squared_error(y_pred_gd, y)\n",
        "\n",
        "# Знаходження параметрів w за допомогою аналітичного рішення\n",
        "w_analytical = analytical_solution(X.to_numpy(), y.to_numpy())\n",
        "y_pred_analytical = hypothesis(X.to_numpy(), w_analytical)\n",
        "mse_analytical = mean_squared_error(y_pred_analytical, y)\n"
      ],
      "metadata": {
        "colab": {
          "base_uri": "https://localhost:8080/"
        },
        "id": "zgi-Songz2tg",
        "outputId": "4dffd38d-8e86-451f-abb3-e2e0356d8c06"
      },
      "execution_count": 26,
      "outputs": [
        {
          "output_type": "stream",
          "name": "stderr",
          "text": [
            "<ipython-input-25-33352991fadd>:5: RuntimeWarning: invalid value encountered in subtract\n",
            "  w -= learning_rate * gradient\n"
          ]
        }
      ]
    },
    {
      "cell_type": "code",
      "source": [
        "print(\"Параметри w за допомогою градієнтного спуску:\", w_gd)\n",
        "print(\"MSE за допомогою градієнтного спуску:\", mse_gd)\n",
        "\n",
        "print(\"Параметри w за допомогою аналітичного рішення:\", w_analytical)\n",
        "print(\"MSE за допомогою аналітичного рішення:\", mse_analytical)\n"
      ],
      "metadata": {
        "colab": {
          "base_uri": "https://localhost:8080/"
        },
        "id": "HE6Ldwy-1TC-",
        "outputId": "7b56176a-3092-4f5e-d754-e9dc869fc68a"
      },
      "execution_count": 27,
      "outputs": [
        {
          "output_type": "stream",
          "name": "stdout",
          "text": [
            "Параметри w за допомогою градієнтного спуску: [nan nan nan]\n",
            "MSE за допомогою градієнтного спуску: nan\n",
            "Параметри w за допомогою аналітичного рішення: [3.72448352e+02 1.37031315e+06 3.68974672e+05]\n",
            "MSE за допомогою аналітичного рішення: 1792588604329.1433\n"
          ]
        }
      ]
    }
  ]
}