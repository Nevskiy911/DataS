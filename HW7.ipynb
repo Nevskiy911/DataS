{
  "nbformat": 4,
  "nbformat_minor": 0,
  "metadata": {
    "colab": {
      "provenance": []
    },
    "kernelspec": {
      "name": "python3",
      "display_name": "Python 3"
    },
    "language_info": {
      "name": "python"
    }
  },
  "cells": [
    {
      "cell_type": "code",
      "source": [
        "pip install scikit-surprise\n"
      ],
      "metadata": {
        "colab": {
          "base_uri": "https://localhost:8080/"
        },
        "id": "41xrjTxxFlrW",
        "outputId": "69f99ebc-be75-4883-ec63-dea659671822"
      },
      "execution_count": 2,
      "outputs": [
        {
          "output_type": "stream",
          "name": "stdout",
          "text": [
            "Collecting scikit-surprise\n",
            "  Downloading scikit-surprise-1.1.3.tar.gz (771 kB)\n",
            "\u001b[2K     \u001b[90m━━━━━━━━━━━━━━━━━━━━━━━━━━━━━━━━━━━━━━━━\u001b[0m \u001b[32m772.0/772.0 kB\u001b[0m \u001b[31m6.0 MB/s\u001b[0m eta \u001b[36m0:00:00\u001b[0m\n",
            "\u001b[?25h  Preparing metadata (setup.py) ... \u001b[?25l\u001b[?25hdone\n",
            "Requirement already satisfied: joblib>=1.0.0 in /usr/local/lib/python3.10/dist-packages (from scikit-surprise) (1.3.2)\n",
            "Requirement already satisfied: numpy>=1.17.3 in /usr/local/lib/python3.10/dist-packages (from scikit-surprise) (1.23.5)\n",
            "Requirement already satisfied: scipy>=1.3.2 in /usr/local/lib/python3.10/dist-packages (from scikit-surprise) (1.11.4)\n",
            "Building wheels for collected packages: scikit-surprise\n",
            "  Building wheel for scikit-surprise (setup.py) ... \u001b[?25l\u001b[?25hdone\n",
            "  Created wheel for scikit-surprise: filename=scikit_surprise-1.1.3-cp310-cp310-linux_x86_64.whl size=3162671 sha256=c26ce7cd5cf772fa563247f75610ba93ae6c171ebd94f6f8215cbb5cc6cf8450\n",
            "  Stored in directory: /root/.cache/pip/wheels/a5/ca/a8/4e28def53797fdc4363ca4af740db15a9c2f1595ebc51fb445\n",
            "Successfully built scikit-surprise\n",
            "Installing collected packages: scikit-surprise\n",
            "Successfully installed scikit-surprise-1.1.3\n"
          ]
        }
      ]
    },
    {
      "cell_type": "code",
      "execution_count": 18,
      "metadata": {
        "id": "bDoNaVPkFd1J"
      },
      "outputs": [],
      "source": [
        "from surprise import SVD\n",
        "from surprise import Dataset\n",
        "from surprise import accuracy\n",
        "from surprise.model_selection import cross_validate\n",
        "from surprise.model_selection import train_test_split\n",
        "from surprise import NMF\n",
        "\n",
        "import time\n"
      ]
    },
    {
      "cell_type": "code",
      "source": [
        "data = Dataset.load_builtin('ml-100k')\n"
      ],
      "metadata": {
        "id": "KLq2WDUcFkwc"
      },
      "execution_count": 5,
      "outputs": []
    },
    {
      "cell_type": "code",
      "source": [
        "model = SVD()\n",
        "\n",
        "# Крос-валідація\n",
        "cross_validate(model, data, measures=['RMSE', 'MAE'], cv=5, verbose=True)\n"
      ],
      "metadata": {
        "colab": {
          "base_uri": "https://localhost:8080/"
        },
        "id": "Omkh5-P_HUI5",
        "outputId": "d28f3a8b-a69f-4558-8900-2e8b24108e1d"
      },
      "execution_count": 8,
      "outputs": [
        {
          "output_type": "stream",
          "name": "stdout",
          "text": [
            "Evaluating RMSE, MAE of algorithm SVD on 5 split(s).\n",
            "\n",
            "                  Fold 1  Fold 2  Fold 3  Fold 4  Fold 5  Mean    Std     \n",
            "RMSE (testset)    0.9373  0.9380  0.9350  0.9319  0.9398  0.9364  0.0027  \n",
            "MAE (testset)     0.7394  0.7401  0.7369  0.7348  0.7417  0.7386  0.0024  \n",
            "Fit time          1.59    1.45    1.48    1.44    1.49    1.49    0.05    \n",
            "Test time         0.13    0.23    0.33    0.16    0.26    0.22    0.07    \n"
          ]
        },
        {
          "output_type": "execute_result",
          "data": {
            "text/plain": [
              "{'test_rmse': array([0.93730019, 0.93803793, 0.9349554 , 0.93192662, 0.93981015]),\n",
              " 'test_mae': array([0.73941989, 0.74010086, 0.73687768, 0.73484276, 0.74167287]),\n",
              " 'fit_time': (1.5868258476257324,\n",
              "  1.4484262466430664,\n",
              "  1.475881576538086,\n",
              "  1.4399785995483398,\n",
              "  1.4944264888763428),\n",
              " 'test_time': (0.13330388069152832,\n",
              "  0.23247933387756348,\n",
              "  0.32749128341674805,\n",
              "  0.16088080406188965,\n",
              "  0.2645690441131592)}"
            ]
          },
          "metadata": {},
          "execution_count": 8
        }
      ]
    },
    {
      "cell_type": "code",
      "source": [
        "train_set, test_set = train_test_split(data, test_size=0.25)\n"
      ],
      "metadata": {
        "id": "RYD4zi-QHDXx"
      },
      "execution_count": 9,
      "outputs": []
    },
    {
      "cell_type": "code",
      "source": [
        "# Запуск таймера для вимірювання часу виконання\n",
        "start_time = time.time()\n",
        "\n",
        "# Крос-валідація\n",
        "results = cross_validate(model, data, measures=['RMSE', 'MAE'], cv=5, verbose=True)\n",
        "\n",
        "# Визначення часу навчання та тестування\n",
        "training_time = time.time() - start_time\n",
        "testing_time = sum(results['test_time']) / len(results['test_time'])\n",
        "\n",
        "# Виведення часу навчання та тестування\n",
        "print(f\"Training Time: {training_time} seconds\")\n",
        "print(f\"Testing Time (avg): {testing_time} seconds\")\n",
        "\n",
        "\n",
        "# Виведення середніх значень RMSE та MAE на кожному з п'яти фолдів\n",
        "for key in results.keys():\n",
        "    print(f\"{key}: {sum(results[key]) / len(results[key])}\")"
      ],
      "metadata": {
        "colab": {
          "base_uri": "https://localhost:8080/"
        },
        "id": "Jwr0wEwXISfA",
        "outputId": "e9936d84-5d07-4d56-dd7c-455e5d9ac622"
      },
      "execution_count": 15,
      "outputs": [
        {
          "output_type": "stream",
          "name": "stdout",
          "text": [
            "Evaluating RMSE, MAE of algorithm SVD on 5 split(s).\n",
            "\n",
            "                  Fold 1  Fold 2  Fold 3  Fold 4  Fold 5  Mean    Std     \n",
            "RMSE (testset)    0.9314  0.9308  0.9373  0.9461  0.9404  0.9372  0.0057  \n",
            "MAE (testset)     0.7332  0.7342  0.7395  0.7476  0.7395  0.7388  0.0051  \n",
            "Fit time          1.90    1.49    1.53    1.49    1.51    1.58    0.16    \n",
            "Test time         0.14    0.24    0.13    0.24    0.14    0.18    0.05    \n",
            "Training Time: 9.840051889419556 seconds\n",
            "Testing Time (avg): 0.17952523231506348 seconds\n",
            "test_rmse: 0.9371818633974529\n",
            "test_mae: 0.7388035353148174\n",
            "fit_time: 1.5848032474517821\n",
            "test_time: 0.17952523231506348\n"
          ]
        }
      ]
    },
    {
      "cell_type": "code",
      "source": [
        "# Тренування моделі на тренувальному наборі\n",
        "model.fit(train_set)\n",
        "\n",
        "# Прогноз на тестовому наборі\n",
        "predictions = model.test(test_set)\n",
        "\n",
        "# Обчислення та виведення метрик точності\n",
        "accuracy.rmse(predictions)\n",
        "accuracy.mae(predictions)"
      ],
      "metadata": {
        "colab": {
          "base_uri": "https://localhost:8080/"
        },
        "id": "9j-C4hz8HGD1",
        "outputId": "e8f70053-e925-4efc-9033-f9e94edd5485"
      },
      "execution_count": 16,
      "outputs": [
        {
          "output_type": "stream",
          "name": "stdout",
          "text": [
            "RMSE: 0.9352\n",
            "MAE:  0.7370\n"
          ]
        },
        {
          "output_type": "execute_result",
          "data": {
            "text/plain": [
              "0.7370011786360846"
            ]
          },
          "metadata": {},
          "execution_count": 16
        }
      ]
    },
    {
      "cell_type": "markdown",
      "source": [
        "## Порівняння з іншими методами"
      ],
      "metadata": {
        "id": "yZfwu_vQJOoT"
      }
    },
    {
      "cell_type": "code",
      "source": [
        "# Визначення моделі NMF\n",
        "nmf_model = NMF(n_factors=50, random_state=0)\n",
        "\n",
        "# Оцінка за допомогою крос-валідації\n",
        "start_time = time.time()\n",
        "results_nmf = cross_validate(nmf_model, data, cv=5, verbose=True)\n",
        "training_time_nmf = time.time() - start_time\n",
        "testing_time_nmf = sum(results_nmf['test_time']) / len(results_nmf['test_time'])\n",
        "\n",
        "# Оцінка точності\n",
        "rmse_nmf = results_nmf['test_rmse'].mean()\n",
        "mae_nmf = results_nmf['test_mae'].mean()\n",
        "\n",
        "# Виведення результатів\n",
        "print(f\"NMF - RMSE: {rmse_nmf}, MAE: {mae_nmf}\")\n",
        "print(f\"Training Time (NMF): {training_time_nmf} seconds\")\n",
        "print(f\"Testing Time (avg, NMF): {testing_time_nmf} seconds\")\n"
      ],
      "metadata": {
        "colab": {
          "base_uri": "https://localhost:8080/"
        },
        "id": "PhRpyCbbJfz1",
        "outputId": "f7d10687-1b24-4b86-f290-30bcd2a5ded1"
      },
      "execution_count": 19,
      "outputs": [
        {
          "output_type": "stream",
          "name": "stdout",
          "text": [
            "Evaluating RMSE, MAE of algorithm NMF on 5 split(s).\n",
            "\n",
            "                  Fold 1  Fold 2  Fold 3  Fold 4  Fold 5  Mean    Std     \n",
            "RMSE (testset)    1.0324  1.0313  1.0242  1.0300  1.0293  1.0294  0.0028  \n",
            "MAE (testset)     0.7852  0.7852  0.7804  0.7873  0.7853  0.7847  0.0023  \n",
            "Fit time          4.12    3.58    3.28    3.54    4.13    3.73    0.34    \n",
            "Test time         0.20    0.24    0.11    0.31    0.10    0.19    0.08    \n",
            "NMF - RMSE: 1.029432581074921, MAE: 0.7846768348900545\n",
            "Training Time (NMF): 20.704153537750244 seconds\n",
            "Testing Time (avg, NMF): 0.19218125343322753 seconds\n"
          ]
        }
      ]
    },
    {
      "cell_type": "markdown",
      "source": [
        "# Отримані результати показують наступне:\n",
        "\n",
        "##SVD:\n",
        "\n",
        "RMSE: 0.9370 (середньоквадратична помилка)\n",
        "MAE: 0.7383 (середня абсолютна помилка)\n",
        "Час навчання: 1.64 секунд\n",
        "Час тестування (середній): 0.25 секунд\n",
        "\n",
        "##NMF:\n",
        "\n",
        "RMSE: 1.0294\n",
        "MAE: 0.7847\n",
        "Час навчання: 3.73 секунди\n",
        "Час тестування (середній): 0.19 секунд\n",
        "\n",
        "#Висновок:\n",
        "Обидва методи мають схожі значення RMSE та MAE, і обидва можуть бути використані для побудови рекомендаційних систем. Вибір між ними може залежати від таких чинників:\n",
        "\n",
        "1) Час виконання:\n",
        "\n",
        "Якщо важливо мінімізувати час виконання, SVD може бути кращим варіантом, оскільки він навчається швидше.\n",
        "\n",
        "2) Точність:\n",
        "\n",
        "Якщо точність є важливішою, то можливо варто розглянути SVD, оскільки він має трохи менші значення RMSE та MAE.\n",
        "\n",
        "3) Загальна продуктивність:\n",
        "\n",
        "В залежності від розміру набору даних та конкретних вимог, можна експериментувати з рызними методами та порівнювати їх продуктивність.\n",
        "Обидва методи мають свої переваги та недоліки, і вибір може залежити від конкретної ситуації. У даному випадку, з огляду на час виконання та аналіз точності, метод SVD може бути більш оптимальним. Однак при роботі з більшими обсягами даних, або при інших конкретних вимогах, це може змінитися."
      ],
      "metadata": {
        "id": "TvcyyUNqKtRB"
      }
    }
  ]
}